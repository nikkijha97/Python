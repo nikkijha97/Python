{
  "nbformat": 4,
  "nbformat_minor": 0,
  "metadata": {
    "colab": {
      "name": "Inheritance.ipynb",
      "provenance": [],
      "include_colab_link": true
    },
    "kernelspec": {
      "name": "python3",
      "display_name": "Python 3"
    }
  },
  "cells": [
    {
      "cell_type": "markdown",
      "metadata": {
        "id": "view-in-github",
        "colab_type": "text"
      },
      "source": [
        "<a href=\"https://colab.research.google.com/github/nikkijha97/Python/blob/main/Inheritance.ipynb\" target=\"_parent\"><img src=\"https://colab.research.google.com/assets/colab-badge.svg\" alt=\"Open In Colab\"/></a>"
      ]
    },
    {
      "cell_type": "markdown",
      "metadata": {
        "id": "A3H6lUqnA6Ae"
      },
      "source": [
        "Multi-Level Inheritance"
      ]
    },
    {
      "cell_type": "code",
      "metadata": {
        "colab": {
          "base_uri": "https://localhost:8080/"
        },
        "id": "uvx2nfkw3WFj",
        "outputId": "4aeee11e-3430-4183-e44f-9e0d6a33fe43"
      },
      "source": [
        "#creating Parent class A\n",
        "\n",
        "class A:\n",
        "\n",
        "  def feature1(self):\n",
        "    print(\"Feature 1 working\")\n",
        "\n",
        "  def feature2(self):\n",
        "    print(\"Feature 2 working\")\n",
        "\n",
        "#creating Child class B\n",
        "\n",
        "class B(A):\n",
        "\n",
        "  def feature3(self):\n",
        "    print(\"Feature 3 working\")\n",
        "\n",
        "  def feature4(self):\n",
        "    print(\"Feature 4 working\")\n",
        "\n",
        "#creating child class C\n",
        "class C(B):\n",
        "\n",
        "  def feature5(self):\n",
        "    print(\"Feature 5 working\")\n",
        "\n",
        "  def feature6(self):\n",
        "    print(\"Feature 6 working\")\n",
        "\n",
        "\n",
        "a1=A()\n",
        "\n",
        "a1.feature1()\n",
        "a1.feature2()\n",
        "\n",
        "b1=B()\n",
        "\n",
        "b1.feature3()\n",
        "b1.feature4()\n",
        "\n",
        "c1=C()\n",
        "\n",
        "c1.feature5()\n",
        "c1.feature6()\n",
        "\n"
      ],
      "execution_count": null,
      "outputs": [
        {
          "output_type": "stream",
          "text": [
            "Feature 1 working\n",
            "Feature 2 working\n",
            "Feature 3 working\n",
            "Feature 4 working\n",
            "Feature 5 working\n",
            "Feature 6 working\n"
          ],
          "name": "stdout"
        }
      ]
    },
    {
      "cell_type": "markdown",
      "metadata": {
        "id": "kq_o17JPBAFf"
      },
      "source": [
        "Muliple Inheritance"
      ]
    },
    {
      "cell_type": "code",
      "metadata": {
        "colab": {
          "base_uri": "https://localhost:8080/"
        },
        "id": "wOvnzbbJ79Tr",
        "outputId": "12d31e75-87e8-40a4-be1a-edab66d4a1b5"
      },
      "source": [
        "#creating Parent class A\n",
        "\n",
        "class A:\n",
        "\n",
        "  def feature1(self):\n",
        "    print(\"Feature 1 working\")\n",
        "\n",
        "  def feature2(self):\n",
        "    print(\"Feature 2 working\")\n",
        "#creating Parent class B\n",
        "\n",
        "class B:\n",
        "\n",
        "  def feature3(self):\n",
        "    print(\"Feature 3 working\")\n",
        "\n",
        "  def feature4(self):\n",
        "    print(\"Feature 4 working\")\n",
        "\n",
        "#creating child class C\n",
        "#At a time, C is inheriting from both parent class A and B\n",
        "class C(A,B):\n",
        "\n",
        "  def feature5(self):\n",
        "    print(\"Feature 5 working\")\n",
        "\n",
        "  def feature6(self):\n",
        "    print(\"Feature 6 working\")\n",
        "\n",
        "\n",
        "a1=A()\n",
        "\n",
        "a1.feature1()\n",
        "a1.feature2()\n",
        "\n",
        "b1=B()\n",
        "\n",
        "b1.feature3()\n",
        "b1.feature4()\n",
        "\n",
        "c1=C()\n",
        "\n",
        "c1.feature5()\n",
        "c1.feature6()\n",
        "\n"
      ],
      "execution_count": null,
      "outputs": [
        {
          "output_type": "stream",
          "text": [
            "Feature 1 working\n",
            "Feature 2 working\n",
            "Feature 3 working\n",
            "Feature 4 working\n",
            "Feature 5 working\n",
            "Feature 6 working\n"
          ],
          "name": "stdout"
        }
      ]
    },
    {
      "cell_type": "code",
      "metadata": {
        "colab": {
          "base_uri": "https://localhost:8080/"
        },
        "id": "3w3lssHACw5a",
        "outputId": "2e95d5bf-00b4-445d-cec8-07fb0866853a"
      },
      "source": [
        "class A:\n",
        "\n",
        "  def __init__(self):\n",
        "    print('in A Init')\n",
        "\n",
        "  def feature1(self):\n",
        "    print(\"Feature 1 working\")\n",
        "\n",
        "  def feature2(self):\n",
        "    print(\"Feature 2 working\")\n",
        "\n",
        "class B(A):\n",
        "\n",
        "  def __init__(self):\n",
        "    super().__init__()\n",
        "    print('in B Init')\n",
        "\n",
        "  def feature3(self):\n",
        "    print(\"Feature 3 working\")\n",
        "\n",
        "  def feature4(self):\n",
        "    print(\"Feature 4 working\")\n",
        "\n",
        "a1=B() #a1 is the object of Class B which is the Child class of Class A\n"
      ],
      "execution_count": null,
      "outputs": [
        {
          "output_type": "stream",
          "text": [
            "in A Init\n",
            "in B Init\n"
          ],
          "name": "stdout"
        }
      ]
    },
    {
      "cell_type": "markdown",
      "metadata": {
        "id": "Q0jq5aisEHy-"
      },
      "source": [
        "If you create object of Sub Class it will first try to find init of Sub Class. If it is not found then it will call init of Super Class"
      ]
    },
    {
      "cell_type": "code",
      "metadata": {
        "id": "L0EOMG5JDqId"
      },
      "source": [],
      "execution_count": null,
      "outputs": []
    }
  ]
}