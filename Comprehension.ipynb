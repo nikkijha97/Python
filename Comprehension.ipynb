{
  "nbformat": 4,
  "nbformat_minor": 0,
  "metadata": {
    "colab": {
      "provenance": [],
      "authorship_tag": "ABX9TyOQ8JhNngqJ1s7HlrzpR/49",
      "include_colab_link": true
    },
    "kernelspec": {
      "name": "python3",
      "display_name": "Python 3"
    },
    "language_info": {
      "name": "python"
    }
  },
  "cells": [
    {
      "cell_type": "markdown",
      "metadata": {
        "id": "view-in-github",
        "colab_type": "text"
      },
      "source": [
        "<a href=\"https://colab.research.google.com/github/nikkijha97/Python/blob/main/Comprehension.ipynb\" target=\"_parent\"><img src=\"https://colab.research.google.com/assets/colab-badge.svg\" alt=\"Open In Colab\"/></a>"
      ]
    },
    {
      "cell_type": "markdown",
      "source": [
        "**List Comprehnsion**"
      ],
      "metadata": {
        "id": "tZvQcdkL1kja"
      }
    },
    {
      "cell_type": "code",
      "execution_count": null,
      "metadata": {
        "id": "pLHvUSDMpzoo"
      },
      "outputs": [],
      "source": [
        "Give me numbers which are divisible by 7 from 0 to 100 using List comprehension."
      ]
    },
    {
      "cell_type": "code",
      "source": [
        "l=[]\n",
        "for i in range(0,101):\n",
        "  if i%7==0:\n",
        "    l.append(i)\n",
        "print(l)"
      ],
      "metadata": {
        "colab": {
          "base_uri": "https://localhost:8080/"
        },
        "id": "98csxJjynGAc",
        "outputId": "b01a92c7-ce98-4128-b30d-68c71493167c"
      },
      "execution_count": 3,
      "outputs": [
        {
          "output_type": "stream",
          "name": "stdout",
          "text": [
            "[0, 7, 14, 21, 28, 35, 42, 49, 56, 63, 70, 77, 84, 91, 98]\n"
          ]
        }
      ]
    },
    {
      "cell_type": "code",
      "source": [
        "l1=[i for i in range(0,101) if i%7==0]\n",
        "l1"
      ],
      "metadata": {
        "colab": {
          "base_uri": "https://localhost:8080/"
        },
        "id": "YGrKDhif1E5E",
        "outputId": "22e2d8e3-ac44-4776-f0b3-948f51ce923d"
      },
      "execution_count": 5,
      "outputs": [
        {
          "output_type": "execute_result",
          "data": {
            "text/plain": [
              "[0, 7, 14, 21, 28, 35, 42, 49, 56, 63, 70, 77, 84, 91, 98]"
            ]
          },
          "metadata": {},
          "execution_count": 5
        }
      ]
    },
    {
      "cell_type": "code",
      "source": [
        "s1=[item for item in [\"dress1\", \"dress1\", \"dress1\"]]\n",
        "s1"
      ],
      "metadata": {
        "colab": {
          "base_uri": "https://localhost:8080/"
        },
        "id": "DBxTAUSVEZH9",
        "outputId": "bf4af702-b512-4aff-cdbf-3497181b1d01"
      },
      "execution_count": 22,
      "outputs": [
        {
          "output_type": "execute_result",
          "data": {
            "text/plain": [
              "['dress1', 'dress1', 'dress1']"
            ]
          },
          "metadata": {},
          "execution_count": 22
        }
      ]
    },
    {
      "cell_type": "markdown",
      "source": [
        "**Dictonary Comprehension**"
      ],
      "metadata": {
        "id": "PLmh1n4N1nOp"
      }
    },
    {
      "cell_type": "code",
      "source": [
        "##basics\n",
        "d={0:\"item0\",1:\"item2\",... till 100}"
      ],
      "metadata": {
        "id": "xkGXdJYs1qHx"
      },
      "execution_count": null,
      "outputs": []
    },
    {
      "cell_type": "code",
      "source": [
        "dic={i:f\"item{i}\" for i in range(0,101)}\n",
        "dic"
      ],
      "metadata": {
        "colab": {
          "base_uri": "https://localhost:8080/"
        },
        "id": "UZ2oBysG17lV",
        "outputId": "134cd231-e5f6-477e-81f9-d64ac664f8de"
      },
      "execution_count": 9,
      "outputs": [
        {
          "output_type": "execute_result",
          "data": {
            "text/plain": [
              "{0: 'item0',\n",
              " 1: 'item1',\n",
              " 2: 'item2',\n",
              " 3: 'item3',\n",
              " 4: 'item4',\n",
              " 5: 'item5',\n",
              " 6: 'item6',\n",
              " 7: 'item7',\n",
              " 8: 'item8',\n",
              " 9: 'item9',\n",
              " 10: 'item10',\n",
              " 11: 'item11',\n",
              " 12: 'item12',\n",
              " 13: 'item13',\n",
              " 14: 'item14',\n",
              " 15: 'item15',\n",
              " 16: 'item16',\n",
              " 17: 'item17',\n",
              " 18: 'item18',\n",
              " 19: 'item19',\n",
              " 20: 'item20',\n",
              " 21: 'item21',\n",
              " 22: 'item22',\n",
              " 23: 'item23',\n",
              " 24: 'item24',\n",
              " 25: 'item25',\n",
              " 26: 'item26',\n",
              " 27: 'item27',\n",
              " 28: 'item28',\n",
              " 29: 'item29',\n",
              " 30: 'item30',\n",
              " 31: 'item31',\n",
              " 32: 'item32',\n",
              " 33: 'item33',\n",
              " 34: 'item34',\n",
              " 35: 'item35',\n",
              " 36: 'item36',\n",
              " 37: 'item37',\n",
              " 38: 'item38',\n",
              " 39: 'item39',\n",
              " 40: 'item40',\n",
              " 41: 'item41',\n",
              " 42: 'item42',\n",
              " 43: 'item43',\n",
              " 44: 'item44',\n",
              " 45: 'item45',\n",
              " 46: 'item46',\n",
              " 47: 'item47',\n",
              " 48: 'item48',\n",
              " 49: 'item49',\n",
              " 50: 'item50',\n",
              " 51: 'item51',\n",
              " 52: 'item52',\n",
              " 53: 'item53',\n",
              " 54: 'item54',\n",
              " 55: 'item55',\n",
              " 56: 'item56',\n",
              " 57: 'item57',\n",
              " 58: 'item58',\n",
              " 59: 'item59',\n",
              " 60: 'item60',\n",
              " 61: 'item61',\n",
              " 62: 'item62',\n",
              " 63: 'item63',\n",
              " 64: 'item64',\n",
              " 65: 'item65',\n",
              " 66: 'item66',\n",
              " 67: 'item67',\n",
              " 68: 'item68',\n",
              " 69: 'item69',\n",
              " 70: 'item70',\n",
              " 71: 'item71',\n",
              " 72: 'item72',\n",
              " 73: 'item73',\n",
              " 74: 'item74',\n",
              " 75: 'item75',\n",
              " 76: 'item76',\n",
              " 77: 'item77',\n",
              " 78: 'item78',\n",
              " 79: 'item79',\n",
              " 80: 'item80',\n",
              " 81: 'item81',\n",
              " 82: 'item82',\n",
              " 83: 'item83',\n",
              " 84: 'item84',\n",
              " 85: 'item85',\n",
              " 86: 'item86',\n",
              " 87: 'item87',\n",
              " 88: 'item88',\n",
              " 89: 'item89',\n",
              " 90: 'item90',\n",
              " 91: 'item91',\n",
              " 92: 'item92',\n",
              " 93: 'item93',\n",
              " 94: 'item94',\n",
              " 95: 'item95',\n",
              " 96: 'item96',\n",
              " 97: 'item97',\n",
              " 98: 'item98',\n",
              " 99: 'item99',\n",
              " 100: 'item100'}"
            ]
          },
          "metadata": {},
          "execution_count": 9
        }
      ]
    },
    {
      "cell_type": "code",
      "source": [
        "dictww={i:f\"item{i}\" for i in range(100) if i%7==0}\n",
        "dictww"
      ],
      "metadata": {
        "colab": {
          "base_uri": "https://localhost:8080/"
        },
        "id": "3i0WaVGC7YOs",
        "outputId": "fdf83ea8-bc5f-4f20-a2f7-26df6ac86814"
      },
      "execution_count": 13,
      "outputs": [
        {
          "output_type": "execute_result",
          "data": {
            "text/plain": [
              "{0: 'item0',\n",
              " 7: 'item7',\n",
              " 14: 'item14',\n",
              " 21: 'item21',\n",
              " 28: 'item28',\n",
              " 35: 'item35',\n",
              " 42: 'item42',\n",
              " 49: 'item49',\n",
              " 56: 'item56',\n",
              " 63: 'item63',\n",
              " 70: 'item70',\n",
              " 77: 'item77',\n",
              " 84: 'item84',\n",
              " 91: 'item91',\n",
              " 98: 'item98'}"
            ]
          },
          "metadata": {},
          "execution_count": 13
        }
      ]
    },
    {
      "cell_type": "code",
      "source": [
        "dict1={i:f\"item{i}\" for i in range(5)}\n",
        "dict1"
      ],
      "metadata": {
        "colab": {
          "base_uri": "https://localhost:8080/"
        },
        "id": "RgBmYqGx2tcw",
        "outputId": "c421c9fc-2e56-4c70-a27a-11597d1f2277"
      },
      "execution_count": 14,
      "outputs": [
        {
          "output_type": "execute_result",
          "data": {
            "text/plain": [
              "{0: 'item0', 1: 'item1', 2: 'item2', 3: 'item3', 4: 'item4'}"
            ]
          },
          "metadata": {},
          "execution_count": 14
        }
      ]
    },
    {
      "cell_type": "markdown",
      "source": [
        "Dictonary comprehension is very good idea for reversing key: value pain for dictonary.\n",
        "The example is shown a below for dict1 we will reverse the key value pair."
      ],
      "metadata": {
        "id": "Zrq00bi_7H5F"
      }
    },
    {
      "cell_type": "code",
      "source": [
        "dict1={value:key for key,value in dict1.items()}\n",
        "dict1"
      ],
      "metadata": {
        "colab": {
          "base_uri": "https://localhost:8080/"
        },
        "id": "Hqyu_6q17GIe",
        "outputId": "6dd5087a-2a23-428d-a458-6fe8335dac98"
      },
      "execution_count": 15,
      "outputs": [
        {
          "output_type": "execute_result",
          "data": {
            "text/plain": [
              "{'item0': 0, 'item1': 1, 'item2': 2, 'item3': 3, 'item4': 4}"
            ]
          },
          "metadata": {},
          "execution_count": 15
        }
      ]
    },
    {
      "cell_type": "code",
      "source": [
        "dict2={i:f\"fish{i}\" for i in range(100) if i%7==0}\n",
        "dict2"
      ],
      "metadata": {
        "colab": {
          "base_uri": "https://localhost:8080/"
        },
        "id": "lR491rw2_Tgp",
        "outputId": "e626a31d-834a-4615-844f-af6bac160d76"
      },
      "execution_count": 16,
      "outputs": [
        {
          "output_type": "execute_result",
          "data": {
            "text/plain": [
              "{0: 'fish0',\n",
              " 7: 'fish7',\n",
              " 14: 'fish14',\n",
              " 21: 'fish21',\n",
              " 28: 'fish28',\n",
              " 35: 'fish35',\n",
              " 42: 'fish42',\n",
              " 49: 'fish49',\n",
              " 56: 'fish56',\n",
              " 63: 'fish63',\n",
              " 70: 'fish70',\n",
              " 77: 'fish77',\n",
              " 84: 'fish84',\n",
              " 91: 'fish91',\n",
              " 98: 'fish98'}"
            ]
          },
          "metadata": {},
          "execution_count": 16
        }
      ]
    },
    {
      "cell_type": "code",
      "source": [
        "dict3={value:key for key,value in dict2.items()}\n",
        "dict3"
      ],
      "metadata": {
        "colab": {
          "base_uri": "https://localhost:8080/"
        },
        "id": "sYPcpC4I_m7U",
        "outputId": "1c454400-f94a-4e3e-96bc-fcc4344129de"
      },
      "execution_count": 18,
      "outputs": [
        {
          "output_type": "execute_result",
          "data": {
            "text/plain": [
              "{'fish0': 0,\n",
              " 'fish7': 7,\n",
              " 'fish14': 14,\n",
              " 'fish21': 21,\n",
              " 'fish28': 28,\n",
              " 'fish35': 35,\n",
              " 'fish42': 42,\n",
              " 'fish49': 49,\n",
              " 'fish56': 56,\n",
              " 'fish63': 63,\n",
              " 'fish70': 70,\n",
              " 'fish77': 77,\n",
              " 'fish84': 84,\n",
              " 'fish91': 91,\n",
              " 'fish98': 98}"
            ]
          },
          "metadata": {},
          "execution_count": 18
        }
      ]
    },
    {
      "cell_type": "markdown",
      "source": [
        "**Set comprehension**"
      ],
      "metadata": {
        "id": "oGwsD9ofACBK"
      }
    },
    {
      "cell_type": "code",
      "source": [
        "s1={item for item in [\"dress1\", \"dress1\", \"dress1\"]}\n",
        "s1"
      ],
      "metadata": {
        "colab": {
          "base_uri": "https://localhost:8080/"
        },
        "id": "BQOMQIDMAK9y",
        "outputId": "5ead2283-027b-46ba-87b7-915a09390826"
      },
      "execution_count": 21,
      "outputs": [
        {
          "output_type": "execute_result",
          "data": {
            "text/plain": [
              "{'dress1'}"
            ]
          },
          "metadata": {},
          "execution_count": 21
        }
      ]
    },
    {
      "cell_type": "code",
      "source": [
        "l1={i for i in range(0,101) if i%7==0}\n",
        "l1"
      ],
      "metadata": {
        "colab": {
          "base_uri": "https://localhost:8080/"
        },
        "id": "5Zt2RLr6EeMo",
        "outputId": "f0dda0ff-c02a-4bc0-d4df-ca047f3b6b77"
      },
      "execution_count": 23,
      "outputs": [
        {
          "output_type": "execute_result",
          "data": {
            "text/plain": [
              "{0, 7, 14, 21, 28, 35, 42, 49, 56, 63, 70, 77, 84, 91, 98}"
            ]
          },
          "metadata": {},
          "execution_count": 23
        }
      ]
    }
  ]
}