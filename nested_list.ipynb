{
  "nbformat": 4,
  "nbformat_minor": 0,
  "metadata": {
    "colab": {
      "provenance": [],
      "authorship_tag": "ABX9TyMuOZ2DxjQqNlAOzRF8QKAg",
      "include_colab_link": true
    },
    "kernelspec": {
      "name": "python3",
      "display_name": "Python 3"
    },
    "language_info": {
      "name": "python"
    }
  },
  "cells": [
    {
      "cell_type": "markdown",
      "metadata": {
        "id": "view-in-github",
        "colab_type": "text"
      },
      "source": [
        "<a href=\"https://colab.research.google.com/github/nikkijha97/Python/blob/main/nested_list.ipynb\" target=\"_parent\"><img src=\"https://colab.research.google.com/assets/colab-badge.svg\" alt=\"Open In Colab\"/></a>"
      ]
    },
    {
      "cell_type": "code",
      "source": [
        "import numpy as np"
      ],
      "metadata": {
        "id": "2G3tnTOWnsO8"
      },
      "execution_count": 19,
      "outputs": []
    },
    {
      "cell_type": "code",
      "source": [
        "lst=[1,2,[3,4],5]\n",
        "def flat_l(nl):\n",
        "  flat_l=[]\n",
        "  for sublist in nl:\n",
        "    # Check if sublist is iterable (a list) before iterating\n",
        "    if isinstance(sublist, list):\n",
        "      for data in sublist:\n",
        "        flat_l.append(data)  # Append the 'data' element, not 'j'\n",
        "    else:\n",
        "      flat_l.append(sublist)  # If sublist is not a list, append it directly\n",
        "  return flat_l\n",
        "print(flat_l(lst))"
      ],
      "metadata": {
        "colab": {
          "base_uri": "https://localhost:8080/"
        },
        "id": "KBsOhtzprQCn",
        "outputId": "63e693f6-b501-4dd9-b4cb-a76d0bd32af8"
      },
      "execution_count": 46,
      "outputs": [
        {
          "output_type": "stream",
          "name": "stdout",
          "text": [
            "[1, 2, 3, 4, 5]\n"
          ]
        }
      ]
    },
    {
      "cell_type": "code",
      "source": [
        "lst=[1,2,[3,4],5]\n",
        "def sum_lst(l):\n",
        "  sum=0\n",
        "  for item in l:\n",
        "    if isinstance(item,list):\n",
        "      sum+=sum_lst(item)\n",
        "    else:\n",
        "      sum+=item\n",
        "  return sum\n",
        "print(sum_lst(lst))"
      ],
      "metadata": {
        "colab": {
          "base_uri": "https://localhost:8080/"
        },
        "id": "NrXB7VYyuBbH",
        "outputId": "ff90bb02-3628-4fea-b61a-f1eba6bf09e9"
      },
      "execution_count": 1,
      "outputs": [
        {
          "output_type": "stream",
          "name": "stdout",
          "text": [
            "15\n"
          ]
        }
      ]
    },
    {
      "cell_type": "code",
      "source": [
        "lst=[1,2,5]\n",
        "sum=0\n",
        "for i in lst:\n",
        "  sum+=i\n",
        "print(sum)"
      ],
      "metadata": {
        "colab": {
          "base_uri": "https://localhost:8080/"
        },
        "id": "nP0Z6FeawEj6",
        "outputId": "1dd1b85e-7200-4459-f430-aec8354b47ad"
      },
      "execution_count": 43,
      "outputs": [
        {
          "output_type": "stream",
          "name": "stdout",
          "text": [
            "8\n"
          ]
        }
      ]
    },
    {
      "cell_type": "code",
      "source": [
        "lisst=[1,2,[3,4],10]\n",
        "def sum_lst(functionlist):\n",
        "  sum=0\n",
        "  for item in functionlist:\n",
        "    if isinstance(item,list):\n",
        "      sum+=sum_lst(item)\n",
        "    else:\n",
        "      sum+=item\n",
        "  return sum\n",
        "print(sum_lst(lisst))"
      ],
      "metadata": {
        "colab": {
          "base_uri": "https://localhost:8080/"
        },
        "id": "WvKV8G3g7sEP",
        "outputId": "c2ba8646-1c2c-4c0c-f2cb-bbc859c99b1f"
      },
      "execution_count": 2,
      "outputs": [
        {
          "output_type": "stream",
          "name": "stdout",
          "text": [
            "20\n"
          ]
        }
      ]
    }
  ]
}