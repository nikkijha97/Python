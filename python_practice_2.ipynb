{
  "nbformat": 4,
  "nbformat_minor": 0,
  "metadata": {
    "colab": {
      "provenance": [],
      "authorship_tag": "ABX9TyOUzQJK0DLSFm5oLZQR1wkg",
      "include_colab_link": true
    },
    "kernelspec": {
      "name": "python3",
      "display_name": "Python 3"
    },
    "language_info": {
      "name": "python"
    }
  },
  "cells": [
    {
      "cell_type": "markdown",
      "metadata": {
        "id": "view-in-github",
        "colab_type": "text"
      },
      "source": [
        "<a href=\"https://colab.research.google.com/github/nikkijha97/Python/blob/main/python_practice_2.ipynb\" target=\"_parent\"><img src=\"https://colab.research.google.com/assets/colab-badge.svg\" alt=\"Open In Colab\"/></a>"
      ]
    },
    {
      "cell_type": "code",
      "execution_count": null,
      "metadata": {
        "id": "KjcAZHw8jLLd"
      },
      "outputs": [],
      "source": [
        "##input = [[\"a\", \"b\", \"c\", \"d\"], [\"e\", \"f\",\"e\"]]\n",
        "output = [\"a\", \"b\", \"c\", \"d\", \"e\", \"f\",\"e\"]"
      ]
    },
    {
      "cell_type": "code",
      "source": [
        "L1=[[\"a\", \"b\", \"c\", \"d\"], [\"e\", \"f\",\"e\"]]\n",
        "def flatL1(L1):\n",
        "  l2=[]\n",
        "  for i in L1:\n",
        "    for j in i:\n",
        "      L2.append(j)\n",
        "  print(L2)"
      ],
      "metadata": {
        "id": "18NFY_hSkA-b"
      },
      "execution_count": null,
      "outputs": []
    },
    {
      "cell_type": "code",
      "source": [
        "import numpy as np\n",
        "L1=[[\"a\", \"b\", \"c\", \"d\"], [\"e\", \"f\",\"e\",\"g\" ]]\n",
        "a=np.array(L1)\n",
        "a.ravel()"
      ],
      "metadata": {
        "colab": {
          "base_uri": "https://localhost:8080/"
        },
        "id": "IReqRjc6KKKq",
        "outputId": "c2ee6c02-793d-429d-96bc-9b7f92418508"
      },
      "execution_count": null,
      "outputs": [
        {
          "output_type": "execute_result",
          "data": {
            "text/plain": [
              "array(['a', 'b', 'c', 'd', 'e', 'f', 'e', 'g'], dtype='<U1')"
            ]
          },
          "metadata": {},
          "execution_count": 16
        }
      ]
    },
    {
      "cell_type": "code",
      "source": [
        "a=np.array([[\"a\", \"b\", \"c\", \"d\"], [\"e\", \"f\", \"e\", \"g\"]])\n",
        "list(a.flatten())"
      ],
      "metadata": {
        "colab": {
          "base_uri": "https://localhost:8080/"
        },
        "id": "aanFnjOSLB3c",
        "outputId": "3159ed09-18c9-4950-8dd7-d90d2fd2bec9"
      },
      "execution_count": null,
      "outputs": [
        {
          "output_type": "execute_result",
          "data": {
            "text/plain": [
              "['a', 'b', 'c', 'd', 'e', 'f', 'e', 'g']"
            ]
          },
          "metadata": {},
          "execution_count": 23
        }
      ]
    },
    {
      "cell_type": "code",
      "source": [
        "L1=[[\"a\", \"b\", \"c\", \"d\"], [\"e\", \"f\",\"e\"]]\n",
        "sum(L1, [])"
      ],
      "metadata": {
        "colab": {
          "base_uri": "https://localhost:8080/"
        },
        "id": "gWMZQlyoLfcI",
        "outputId": "4950dbc0-5bf3-4250-9ef8-45353df4ff69"
      },
      "execution_count": null,
      "outputs": [
        {
          "output_type": "execute_result",
          "data": {
            "text/plain": [
              "['a', 'b', 'c', 'd', 'e', 'f', 'e']"
            ]
          },
          "metadata": {},
          "execution_count": 11
        }
      ]
    },
    {
      "cell_type": "code",
      "source": [
        "l1=np.array([1,2,3,4])\n",
        "l2=np.array([5,6,7,8])\n",
        "c=l1*l2\n",
        "print(c)"
      ],
      "metadata": {
        "id": "mWRshhPM9Evn",
        "colab": {
          "base_uri": "https://localhost:8080/"
        },
        "outputId": "60762272-179f-479d-9f2f-68953ed0d590"
      },
      "execution_count": null,
      "outputs": [
        {
          "output_type": "stream",
          "name": "stdout",
          "text": [
            "[ 5 12 21 32]\n"
          ]
        }
      ]
    },
    {
      "cell_type": "code",
      "source": [
        "count=0\n",
        "for num in range(100,201):\n",
        "  i=1\n",
        "  if (num%i!=0):\n",
        "    count+=1\n",
        "  i+=1\n",
        "  if(count==2):\n",
        "    print(num)\n"
      ],
      "metadata": {
        "id": "VGN2gD8N-4ad"
      },
      "execution_count": null,
      "outputs": []
    },
    {
      "cell_type": "code",
      "source": [
        "for num in range(100,201):\n",
        "  if all(num%i!=0 for i in range(2,num)):\n",
        "    print(num)"
      ],
      "metadata": {
        "colab": {
          "base_uri": "https://localhost:8080/"
        },
        "id": "7k9AlGyv_IaL",
        "outputId": "5cf9f427-7b97-4c44-c008-3caaf485c00e"
      },
      "execution_count": null,
      "outputs": [
        {
          "output_type": "stream",
          "name": "stdout",
          "text": [
            "101\n",
            "103\n",
            "107\n",
            "109\n",
            "113\n",
            "127\n",
            "131\n",
            "137\n",
            "139\n",
            "149\n",
            "151\n",
            "157\n",
            "163\n",
            "167\n",
            "173\n",
            "179\n",
            "181\n",
            "191\n",
            "193\n",
            "197\n",
            "199\n"
          ]
        }
      ]
    }
  ]
}