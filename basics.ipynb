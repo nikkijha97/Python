{
  "nbformat": 4,
  "nbformat_minor": 0,
  "metadata": {
    "colab": {
      "provenance": [],
      "authorship_tag": "ABX9TyNXj4cpw5t1pwj+KAfP1oEl",
      "include_colab_link": true
    },
    "kernelspec": {
      "name": "python3",
      "display_name": "Python 3"
    },
    "language_info": {
      "name": "python"
    }
  },
  "cells": [
    {
      "cell_type": "markdown",
      "metadata": {
        "id": "view-in-github",
        "colab_type": "text"
      },
      "source": [
        "<a href=\"https://colab.research.google.com/github/nikkijha97/Python/blob/main/basics.ipynb\" target=\"_parent\"><img src=\"https://colab.research.google.com/assets/colab-badge.svg\" alt=\"Open In Colab\"/></a>"
      ]
    },
    {
      "cell_type": "markdown",
      "source": [
        "# **PYTHON (NUMPY)**"
      ],
      "metadata": {
        "id": "w7C4tGoQ7piT"
      }
    },
    {
      "cell_type": "markdown",
      "source": [
        "# ***Basics***"
      ],
      "metadata": {
        "id": "dbmYlOzPC8Jc"
      }
    },
    {
      "cell_type": "code",
      "source": [
        "# Creating array\n",
        "import numpy as np\n"
      ],
      "metadata": {
        "id": "O_USkmsm7wPC"
      },
      "execution_count": null,
      "outputs": []
    },
    {
      "cell_type": "code",
      "source": [
        "#0-d array\n",
        "arr=np.array(42)"
      ],
      "metadata": {
        "id": "GgYwg5zEP1ap"
      },
      "execution_count": null,
      "outputs": []
    },
    {
      "cell_type": "code",
      "source": [
        "arr\n"
      ],
      "metadata": {
        "colab": {
          "base_uri": "https://localhost:8080/"
        },
        "id": "Bgzh7GC3Aj5Z",
        "outputId": "55f8b505-4330-46c7-8efe-4c4c7f8e0114"
      },
      "execution_count": null,
      "outputs": [
        {
          "output_type": "execute_result",
          "data": {
            "text/plain": [
              "array(42)"
            ]
          },
          "metadata": {},
          "execution_count": 8
        }
      ]
    },
    {
      "cell_type": "code",
      "source": [
        "print(arr)\n",
        "type(arr)"
      ],
      "metadata": {
        "colab": {
          "base_uri": "https://localhost:8080/"
        },
        "id": "Qt7JYHLxAtE0",
        "outputId": "c888bf18-d951-4a49-8358-5e93a751dd9c"
      },
      "execution_count": null,
      "outputs": [
        {
          "output_type": "stream",
          "name": "stdout",
          "text": [
            "42\n"
          ]
        },
        {
          "output_type": "execute_result",
          "data": {
            "text/plain": [
              "numpy.ndarray"
            ]
          },
          "metadata": {},
          "execution_count": 11
        }
      ]
    },
    {
      "cell_type": "code",
      "source": [
        "#1-D array\n",
        "arr1=np.array([1,2,3])\n",
        "arr1"
      ],
      "metadata": {
        "colab": {
          "base_uri": "https://localhost:8080/"
        },
        "id": "eIKi2xijAzze",
        "outputId": "9401e487-57a0-4c75-e121-3e78e7ada271"
      },
      "execution_count": null,
      "outputs": [
        {
          "output_type": "execute_result",
          "data": {
            "text/plain": [
              "array([1, 2, 3])"
            ]
          },
          "metadata": {},
          "execution_count": 13
        }
      ]
    },
    {
      "cell_type": "code",
      "source": [
        "print(arr1)"
      ],
      "metadata": {
        "colab": {
          "base_uri": "https://localhost:8080/"
        },
        "id": "3SMRdh-YA_tY",
        "outputId": "0d26db5c-51ab-4492-b747-476825c884ba"
      },
      "execution_count": null,
      "outputs": [
        {
          "output_type": "stream",
          "name": "stdout",
          "text": [
            "[1 2 3]\n"
          ]
        }
      ]
    },
    {
      "cell_type": "code",
      "source": [
        "#2-D Array\n",
        "arr2=np.array([[0,1,2],[3,4,5]])\n",
        "print(arr2)"
      ],
      "metadata": {
        "colab": {
          "base_uri": "https://localhost:8080/"
        },
        "id": "ivJs96O_BC3b",
        "outputId": "5127ffe8-c1f7-40e7-86e1-8f115b10bebb"
      },
      "execution_count": null,
      "outputs": [
        {
          "output_type": "stream",
          "name": "stdout",
          "text": [
            "[[0 1 2]\n",
            " [3 4 5]]\n"
          ]
        }
      ]
    },
    {
      "cell_type": "code",
      "source": [
        "#to know the dimensions\n",
        "print(arr.ndim)\n",
        "print(arr1.ndim)\n",
        "print(arr2.ndim)\n"
      ],
      "metadata": {
        "colab": {
          "base_uri": "https://localhost:8080/"
        },
        "id": "OXG-joaXBejX",
        "outputId": "83b6429b-477a-43a2-b93a-223dd1c3432b"
      },
      "execution_count": null,
      "outputs": [
        {
          "output_type": "stream",
          "name": "stdout",
          "text": [
            "0\n",
            "1\n",
            "2\n"
          ]
        }
      ]
    },
    {
      "cell_type": "code",
      "source": [
        "#to know the shape\n",
        "arr1.shape"
      ],
      "metadata": {
        "colab": {
          "base_uri": "https://localhost:8080/"
        },
        "id": "4Ee1dElhCt3T",
        "outputId": "2f98dd54-c571-4329-cdc3-78db15cfa115"
      },
      "execution_count": null,
      "outputs": [
        {
          "output_type": "execute_result",
          "data": {
            "text/plain": [
              "(3,)"
            ]
          },
          "metadata": {},
          "execution_count": 30
        }
      ]
    },
    {
      "cell_type": "markdown",
      "source": [
        "# ***Functions for creating Arrays***"
      ],
      "metadata": {
        "id": "J7A4C9B_MuOa"
      }
    },
    {
      "cell_type": "markdown",
      "source": [
        "**1. Arange**\n",
        "\n",
        "syntax:np.arange(start,end(exclusive),step)"
      ],
      "metadata": {
        "id": "qqY63JYqPX4D"
      }
    },
    {
      "cell_type": "code",
      "source": [
        "a=np.arange(10,100,10)\n",
        "a"
      ],
      "metadata": {
        "colab": {
          "base_uri": "https://localhost:8080/"
        },
        "id": "kw70XGBWPnq3",
        "outputId": "73cb81a1-d64b-43d8-d048-cfa7b82425e4"
      },
      "execution_count": null,
      "outputs": [
        {
          "output_type": "execute_result",
          "data": {
            "text/plain": [
              "array([10, 20, 30, 40, 50, 60, 70, 80, 90])"
            ]
          },
          "metadata": {},
          "execution_count": 34
        }
      ]
    },
    {
      "cell_type": "markdown",
      "source": [
        "Linspace\n",
        "\n",
        "Return evenly spaces no. over specified interval(linespace)\n",
        "\n",
        "Syntax: np.linspace(start,end(inclusive),step)\n"
      ],
      "metadata": {
        "id": "5Ys3fxRGTIKX"
      }
    },
    {
      "cell_type": "code",
      "source": [
        "a2=np.linspace(10,66,7)\n",
        "a2"
      ],
      "metadata": {
        "colab": {
          "base_uri": "https://localhost:8080/"
        },
        "id": "HoEX1CVpP_zV",
        "outputId": "f3524ea1-d290-4fa0-a1b7-dedeb13227bc"
      },
      "execution_count": null,
      "outputs": [
        {
          "output_type": "execute_result",
          "data": {
            "text/plain": [
              "array([10.        , 19.33333333, 28.66666667, 38.        , 47.33333333,\n",
              "       56.66666667, 66.        ])"
            ]
          },
          "metadata": {},
          "execution_count": 37
        }
      ]
    },
    {
      "cell_type": "markdown",
      "source": [
        "Zeros\n",
        "\n",
        "syntax: np.zeros(shape)"
      ],
      "metadata": {
        "id": "TxeyjIrDTuBB"
      }
    },
    {
      "cell_type": "code",
      "source": [
        "np.zeros((3,2,4))"
      ],
      "metadata": {
        "colab": {
          "base_uri": "https://localhost:8080/"
        },
        "id": "KG74tmFlT0mM",
        "outputId": "1aad9ea4-a10a-42ae-9719-b3de4777e0de"
      },
      "execution_count": null,
      "outputs": [
        {
          "output_type": "execute_result",
          "data": {
            "text/plain": [
              "array([[[0., 0., 0., 0.],\n",
              "        [0., 0., 0., 0.]],\n",
              "\n",
              "       [[0., 0., 0., 0.],\n",
              "        [0., 0., 0., 0.]],\n",
              "\n",
              "       [[0., 0., 0., 0.],\n",
              "        [0., 0., 0., 0.]]])"
            ]
          },
          "metadata": {},
          "execution_count": 39
        }
      ]
    }
  ]
}