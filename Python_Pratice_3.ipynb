{
  "nbformat": 4,
  "nbformat_minor": 0,
  "metadata": {
    "colab": {
      "provenance": [],
      "authorship_tag": "ABX9TyMMtHgPAGGI75Y1VmIXErm1",
      "include_colab_link": true
    },
    "kernelspec": {
      "name": "python3",
      "display_name": "Python 3"
    },
    "language_info": {
      "name": "python"
    }
  },
  "cells": [
    {
      "cell_type": "markdown",
      "metadata": {
        "id": "view-in-github",
        "colab_type": "text"
      },
      "source": [
        "<a href=\"https://colab.research.google.com/github/nikkijha97/Python/blob/main/Python_Pratice_3.ipynb\" target=\"_parent\"><img src=\"https://colab.research.google.com/assets/colab-badge.svg\" alt=\"Open In Colab\"/></a>"
      ]
    },
    {
      "cell_type": "code",
      "execution_count": null,
      "metadata": {
        "id": "UaPERgUbqNI8"
      },
      "outputs": [],
      "source": [
        "##Write a Python function to normalize the numerical columns of a DataFrame using Min-Max Scaling.\n",
        "\"Feature1\": [1, 2, 3, 4, 5]\n",
        "\"Feature2\": [10, 20, 30, 40, 50]"
      ]
    },
    {
      "cell_type": "code",
      "source": [],
      "metadata": {
        "id": "ot-YpjDxURh6"
      },
      "execution_count": null,
      "outputs": []
    },
    {
      "cell_type": "code",
      "source": [
        "import pandas as pd\n",
        "data={\"Feature1\": [1, 2, 3, 4, 5],\n",
        "      \"Feature2\": [10, 20, 30, 40, 50]\n",
        "      }\n",
        "df=pd.DataFrame(data)\n",
        "from sklearn.preprocessing import MinMaxScaler\n",
        "Scaler=MinMaxScaler()\n",
        "df_normalized=Scaler.fit().transform()\n",
        "print(df_normalized)"
      ],
      "metadata": {
        "colab": {
          "base_uri": "https://localhost:8080/",
          "height": 106
        },
        "id": "GGoyNHmcTwbb",
        "outputId": "a8fc3cab-afba-4ae8-f31f-50cbb00a48b4"
      },
      "execution_count": null,
      "outputs": [
        {
          "output_type": "error",
          "ename": "SyntaxError",
          "evalue": "invalid syntax (<ipython-input-6-81f4faa7d46c>, line 6)",
          "traceback": [
            "\u001b[0;36m  File \u001b[0;32m\"<ipython-input-6-81f4faa7d46c>\"\u001b[0;36m, line \u001b[0;32m6\u001b[0m\n\u001b[0;31m    from sklearn.preprocessing import MinMaxScaler()\u001b[0m\n\u001b[0m                                                  ^\u001b[0m\n\u001b[0;31mSyntaxError\u001b[0m\u001b[0;31m:\u001b[0m invalid syntax\n"
          ]
        }
      ]
    },
    {
      "cell_type": "code",
      "source": [
        " ##Write a Python function that groups data by a specific column and computes the sum of another column for each group.\n",
        "\"Category\": [\"A\", \"B\", \"A\", \"B\", \"A\", \"C\"],\n",
        "\"Value\": [10, 20, 30, 40, 50, 60]"
      ],
      "metadata": {
        "id": "J8KPUKohTyQx"
      },
      "execution_count": null,
      "outputs": []
    },
    {
      "cell_type": "code",
      "source": [
        "import pandas as pd\n",
        "data={\"category\": [\"A\", \"B\", \"A\", \"B\", \"A\", \"C\"],\n",
        "      \"Value\": [10, 20, 30, 40, 50, 60] }\n",
        "df=pd.DataFrame(data)\n",
        "def grp_and_sum(df,category,Value):\n",
        "  grouped=df.groupby(category)[Value].sum()\n",
        "  return grouped"
      ],
      "metadata": {
        "id": "eQQNv_p8VRtq"
      },
      "execution_count": null,
      "outputs": []
    },
    {
      "cell_type": "code",
      "source": [],
      "metadata": {
        "id": "2RRKCEgzV0Hr"
      },
      "execution_count": null,
      "outputs": []
    }
  ]
}