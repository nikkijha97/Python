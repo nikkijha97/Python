{
  "nbformat": 4,
  "nbformat_minor": 0,
  "metadata": {
    "colab": {
      "name": "Recursion.ipynb",
      "provenance": [],
      "include_colab_link": true
    },
    "kernelspec": {
      "name": "python3",
      "display_name": "Python 3"
    }
  },
  "cells": [
    {
      "cell_type": "markdown",
      "metadata": {
        "id": "view-in-github",
        "colab_type": "text"
      },
      "source": [
        "<a href=\"https://colab.research.google.com/github/nikkijha97/Python/blob/main/Recursion.ipynb\" target=\"_parent\"><img src=\"https://colab.research.google.com/assets/colab-badge.svg\" alt=\"Open In Colab\"/></a>"
      ]
    },
    {
      "cell_type": "code",
      "metadata": {
        "colab": {
          "base_uri": "https://localhost:8080/"
        },
        "id": "e7ViheLEKEKj",
        "outputId": "42556313-9721-45b9-b699-d0b69edee0ae"
      },
      "source": [
        "def find_sum(n):\n",
        "\n",
        "  sum=0\n",
        "\n",
        "  for i in range(1,n+1):\n",
        "    sum=sum+i\n",
        "\n",
        "  return sum\n",
        "\n",
        "if __name__=='__main__':\n",
        "  print(find_sum(10))"
      ],
      "execution_count": null,
      "outputs": [
        {
          "output_type": "stream",
          "text": [
            "55\n"
          ],
          "name": "stdout"
        }
      ]
    },
    {
      "cell_type": "code",
      "metadata": {
        "colab": {
          "base_uri": "https://localhost:8080/"
        },
        "id": "Uhz8WFKbNXvH",
        "outputId": "f54357dd-3501-4c60-d744-3008e4635e57"
      },
      "source": [
        "#using recursion\n",
        "\n",
        "def find_sum(n):\n",
        "\n",
        "  if n==1:\n",
        "    return 1\n",
        "\n",
        "  return n + find_sum(n-1) #base condition\n",
        "\n",
        "if __name__=='__main__':\n",
        "  print(find_sum(5))\n",
        "\n"
      ],
      "execution_count": null,
      "outputs": [
        {
          "output_type": "stream",
          "text": [
            "15\n"
          ],
          "name": "stdout"
        }
      ]
    },
    {
      "cell_type": "code",
      "metadata": {
        "colab": {
          "base_uri": "https://localhost:8080/"
        },
        "id": "FsDfY8T7OAu2",
        "outputId": "2c326be5-0295-44aa-af93-e1ee45d6834f"
      },
      "source": [
        "#Fibonacci Series\n",
        "#0,1,1,2,3,5,8...\n",
        "#0,1,2,3,4,5,6... index values\n",
        "\n",
        "def fibo(n):\n",
        "\n",
        "  if n==0 or n==1:\n",
        "    return n\n",
        "\n",
        "  return fibo(n-1) + fibo(n-2) #base condition\n",
        "\n",
        "if __name__=='__main__':\n",
        "  print(fibo(10))"
      ],
      "execution_count": null,
      "outputs": [
        {
          "output_type": "stream",
          "text": [
            "55\n"
          ],
          "name": "stdout"
        }
      ]
    },
    {
      "cell_type": "code",
      "metadata": {
        "id": "Z9X_onPGPK5E"
      },
      "source": [],
      "execution_count": null,
      "outputs": []
    }
  ]
}