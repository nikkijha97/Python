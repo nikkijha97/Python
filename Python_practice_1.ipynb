{
  "nbformat": 4,
  "nbformat_minor": 0,
  "metadata": {
    "colab": {
      "provenance": [],
      "authorship_tag": "ABX9TyM2B8zTuo1DyJu8hT9Dgzqk",
      "include_colab_link": true
    },
    "kernelspec": {
      "name": "python3",
      "display_name": "Python 3"
    },
    "language_info": {
      "name": "python"
    }
  },
  "cells": [
    {
      "cell_type": "markdown",
      "metadata": {
        "id": "view-in-github",
        "colab_type": "text"
      },
      "source": [
        "<a href=\"https://colab.research.google.com/github/nikkijha97/Python/blob/main/Python_practice_1.ipynb\" target=\"_parent\"><img src=\"https://colab.research.google.com/assets/colab-badge.svg\" alt=\"Open In Colab\"/></a>"
      ]
    },
    {
      "cell_type": "code",
      "execution_count": null,
      "metadata": {
        "id": "SUHCJlsA3j1V"
      },
      "outputs": [],
      "source": []
    },
    {
      "cell_type": "markdown",
      "source": [
        "1.\tPython program to check Alphabet or not\n",
        "2.\tPython program to check Alphabet or Digit\n",
        "3.\tPython program to check Character is an Alphabet, Digit or Special Character\n",
        "4.\tPython program to check Digit or Not\n",
        "5.\tPython program to check Lowercase or not\n",
        "6.\tPython program to check Lowercase or Uppercase\n",
        "7.\tPython Program to check Uppercase or not\n",
        "8.\tPython program to check Vowel or Consonant\n"
      ],
      "metadata": {
        "id": "puhy2Rqe3qiC"
      }
    },
    {
      "cell_type": "code",
      "source": [
        "## 1.Python program to check Alphabet or not\n",
        "ch=input(\"Enter the chracter\")\n",
        "if(ch>\"a\" and ch<\"z\") or (ch>\"A\" and ch<\"Z\"):\n",
        "  print(\"Alphabet\")\n",
        "else:\n",
        "  print(\"NOT ALPHABET\")"
      ],
      "metadata": {
        "colab": {
          "base_uri": "https://localhost:8080/"
        },
        "id": "R1MnqMpn3sJ5",
        "outputId": "9561dd5f-6e9a-4aa2-8774-48b1b8f2036d"
      },
      "execution_count": 2,
      "outputs": [
        {
          "output_type": "stream",
          "name": "stdout",
          "text": [
            "Enter the chracterwe\n",
            "Alphabet\n"
          ]
        }
      ]
    },
    {
      "cell_type": "code",
      "source": [
        "##Python program to check Alphabet or Digit\n",
        "ch=input(\"Enter the chracter\")\n",
        "if(ch>\"a\" and ch<\"z\") or (ch>\"A\" and ch<\"Z\"):\n",
        "  print(\"Alphabet\")\n",
        "elif(ch>=\"0\" and ch<=\"9\"):\n",
        "  print(\"digit\")"
      ],
      "metadata": {
        "colab": {
          "base_uri": "https://localhost:8080/"
        },
        "id": "7pOIRmsI4yGD",
        "outputId": "9f61f643-6df5-4c12-d895-6fc3e4c14324"
      },
      "execution_count": 5,
      "outputs": [
        {
          "output_type": "stream",
          "name": "stdout",
          "text": [
            "Enter the chracterw3\n",
            "Alphabet\n"
          ]
        }
      ]
    },
    {
      "cell_type": "code",
      "source": [
        "## Python program to check Character is an Alphabet, Digit or Special Character\n",
        "ch=input(\"enter the alphabet or digit\")\n",
        "if (ch>'a' and ch<'z') or (ch>'A' and ch<'Z'):\n",
        "  print('alphabet')\n",
        "elif(ch>=\"0\" and ch<=\"9\"):\n",
        "  print('digit')\n",
        "elif(ch>=\"!\" and ch<=\"/\") or (ch>=\":\" and ch<=\"@\") or (ch>=\"[\" and ch<=\"`\"):\n",
        "  print(\"special chracter\")"
      ],
      "metadata": {
        "colab": {
          "base_uri": "https://localhost:8080/"
        },
        "id": "22IwnRr7iDLP",
        "outputId": "5386ceb6-f376-42dd-ea44-8450ecc9f4f8"
      },
      "execution_count": 8,
      "outputs": [
        {
          "output_type": "stream",
          "name": "stdout",
          "text": [
            "enter the alphabet or digit,\n",
            "special chracter\n"
          ]
        }
      ]
    },
    {
      "cell_type": "code",
      "source": [
        "## Python program to check Digit or Not\n",
        "ch=input(\"enter the character\")\n",
        "if(ch>=\"0\" and ch<=\"9\"):\n",
        "  print('digit')"
      ],
      "metadata": {
        "colab": {
          "base_uri": "https://localhost:8080/"
        },
        "id": "ct5Fn_N-k-gY",
        "outputId": "683212a4-89d5-4edd-fc13-c729d524aee6"
      },
      "execution_count": 10,
      "outputs": [
        {
          "output_type": "stream",
          "name": "stdout",
          "text": [
            "enter the character6\n",
            "digit\n"
          ]
        }
      ]
    },
    {
      "cell_type": "code",
      "source": [
        "## Python program to check Lowercase or not\n",
        "ch=input(\"enter the alphabet or digit:\")\n",
        "if (ch>'a' and ch<'z'):\n",
        "  print('lower case')\n",
        "else:\n",
        "  print(\"not lower case\")"
      ],
      "metadata": {
        "colab": {
          "base_uri": "https://localhost:8080/"
        },
        "id": "ov6PsK9JlDUb",
        "outputId": "d844aef0-c9b6-4aad-db8e-64d8c26c5b03"
      },
      "execution_count": 14,
      "outputs": [
        {
          "output_type": "stream",
          "name": "stdout",
          "text": [
            "enter the alphabet or digit:A\n",
            "not lower case\n"
          ]
        }
      ]
    },
    {
      "cell_type": "code",
      "source": [
        "##write a program to input two integers and print sum of two integer\n",
        "a=input(\" 1st number:\")\n",
        "b=input(\"2nd num:\")\n",
        "c=int(a)+int(b)\n",
        "print(c)"
      ],
      "metadata": {
        "colab": {
          "base_uri": "https://localhost:8080/"
        },
        "id": "SN7PG102lkl7",
        "outputId": "30fb1bdd-ebdd-467f-bc14-433f5444ae81"
      },
      "execution_count": 15,
      "outputs": [
        {
          "output_type": "stream",
          "name": "stdout",
          "text": [
            " 1st number:5\n",
            "2nd num:4\n",
            "9\n"
          ]
        }
      ]
    },
    {
      "cell_type": "code",
      "source": [
        "## Python program to check Vowel or Consonant\n",
        "ch=input(\"enter the alphbet:\")\n",
        "if(ch==\"a\" or ch=='e' or ch=='i' or ch=='o' or ch=='u'):\n",
        "  print('Vowel')\n",
        "else:\n",
        "  print(\"not vowel\")"
      ],
      "metadata": {
        "colab": {
          "base_uri": "https://localhost:8080/"
        },
        "id": "6EO7qpgan68r",
        "outputId": "5992d1b6-b98d-4fd8-9f2a-53d730744492"
      },
      "execution_count": 18,
      "outputs": [
        {
          "output_type": "stream",
          "name": "stdout",
          "text": [
            "enter the alphbet:e\n",
            "Vowel\n"
          ]
        }
      ]
    },
    {
      "cell_type": "code",
      "source": [
        "# write a program to find input amount is multiples of 100,200 or 500\n",
        "num=int(input(\"enter the number:\"))\n",
        "if(num%100==0 or num%200==0 or num%500==0):\n",
        "  print(\"multiples\")\n",
        "else:\n",
        "  print(\"not multiples\")"
      ],
      "metadata": {
        "colab": {
          "base_uri": "https://localhost:8080/"
        },
        "id": "tmrClnkroot8",
        "outputId": "49498dde-2ed1-4b8f-e676-29ef24b6103f"
      },
      "execution_count": 20,
      "outputs": [
        {
          "output_type": "stream",
          "name": "stdout",
          "text": [
            "enter the number:2200\n",
            "multiples\n"
          ]
        }
      ]
    },
    {
      "cell_type": "code",
      "source": [
        "### Write a program to find input number is even or odd\n",
        "num=int(input(\"enter the num:\"))\n",
        "if(num%2==0):\n",
        "  print(\"even\")\n",
        "else:\n",
        "  print(\"odd\")"
      ],
      "metadata": {
        "colab": {
          "base_uri": "https://localhost:8080/"
        },
        "id": "wDInTcboxfkL",
        "outputId": "b9a8a177-7303-4ab0-93b8-7147d023565f"
      },
      "execution_count": 22,
      "outputs": [
        {
          "output_type": "stream",
          "name": "stdout",
          "text": [
            "enter the num:1\n",
            "odd\n"
          ]
        }
      ]
    },
    {
      "cell_type": "code",
      "source": [
        "# Write a program to find max of 3 numbers\n",
        "num1=int(input(\"enter 1st num:\"))\n",
        "num2=int(input(\"enter 2nd num:\"))\n",
        "num3=int(input(\"enter 3rd num:\"))\n",
        "if (num1 > num2 and num2 > num3):\n",
        "  print(f'Max is {num1}')\n",
        "elif (num2 > num1 and num2 > num):\n",
        "  print(f'Max is {num2}')\n",
        "else:\n",
        "  print(f'max is {num3}')"
      ],
      "metadata": {
        "colab": {
          "base_uri": "https://localhost:8080/"
        },
        "id": "dQ_0p1dfyOx_",
        "outputId": "48af7ac2-f4bb-48e3-f6ff-31f55ffa2891"
      },
      "execution_count": 25,
      "outputs": [
        {
          "output_type": "stream",
          "name": "stdout",
          "text": [
            "enter 1st num:56\n",
            "enter 2nd num:34\n",
            "enter 3rd num:12\n",
            "Max is 56\n"
          ]
        }
      ]
    },
    {
      "cell_type": "code",
      "source": [
        "# Input number is divisible with 7 or not\n",
        "num=int(input(\"enter the number:\"))\n",
        "if num>=7:\n",
        "  if(num%7==0):\n",
        "    print(\"divisible by 7\")\n",
        "  else:\n",
        "    print(\"not divisble by 7\")\n",
        "# Multiples of 5 or not"
      ],
      "metadata": {
        "colab": {
          "base_uri": "https://localhost:8080/"
        },
        "id": "Zdoz23c12S6T",
        "outputId": "8334c7a7-a0c3-4590-c69f-d19653db8aa6"
      },
      "execution_count": 28,
      "outputs": [
        {
          "output_type": "stream",
          "name": "stdout",
          "text": [
            "enter the number:14\n",
            "divisible by 7\n"
          ]
        }
      ]
    },
    {
      "cell_type": "code",
      "source": [
        "# Multiples of 5 or not\n",
        "num=int(input(\"enter the number:\"))\n",
        "if num%5 ==0:\n",
        "  print(\"multiples of 5\")\n",
        "else:\n",
        "  print(\"not multiples\")"
      ],
      "metadata": {
        "colab": {
          "base_uri": "https://localhost:8080/"
        },
        "id": "dUgQfgFg3mhe",
        "outputId": "b2cdba6a-ec84-4ae7-9da1-a9f466c9bf17"
      },
      "execution_count": 1,
      "outputs": [
        {
          "output_type": "stream",
          "name": "stdout",
          "text": [
            "enter the number:50\n",
            "multiples of 5\n"
          ]
        }
      ]
    },
    {
      "cell_type": "code",
      "source": [
        "## WAP to calculate electric bill(accept number of user) according to the following criteria:\n",
        "## UNIT               PRICE\n",
        "## first 100          no charge\n",
        "## next 100          5 rupee unit\n",
        "## after 200         10 rupee unit\n",
        "## 350 unit 2000 rupee\n",
        "num=int(input(\"enter the unit\"))\n",
        "if num<=100:\n",
        "  print(\"no charges\")\n",
        "elif(101<num<=200):\n",
        "  amnt=(num-100)*5\n",
        "  print('the charges are',amnt)\n",
        "elif(num>200):\n",
        "  amnt=500+(num-200)*100\n",
        "  print(\"the amont is\",amnt)\n"
      ],
      "metadata": {
        "colab": {
          "base_uri": "https://localhost:8080/"
        },
        "id": "5Pb2W5BMiakT",
        "outputId": "b74727c2-2ae9-49fb-dc07-39b3d8de2877"
      },
      "execution_count": 5,
      "outputs": [
        {
          "output_type": "stream",
          "name": "stdout",
          "text": [
            "enter the unit151\n",
            "the charges are 255\n"
          ]
        }
      ]
    },
    {
      "cell_type": "code",
      "source": [
        "## WAP to accept the cost price of bike and display the road tax to be paid accordingly:\n",
        "##COST PRICE           TAX\n",
        "##>100000               15%\n",
        "##>50000 AND<=100000    10%\n",
        "##<=50000               5%\n",
        "price=int(input(\"enter the price\"))\n",
        "if price>100000:\n",
        "  tax=price*15/100\n",
        "  print(tax)\n",
        "elif(50000<price<=100000):\n",
        "  tax=price*0.10\n",
        "  print(tax)\n",
        "elif(price<=50000):\n",
        "  tax=price*0.05\n",
        "  print(tax)"
      ],
      "metadata": {
        "colab": {
          "base_uri": "https://localhost:8080/"
        },
        "id": "v0YbKge0nPmx",
        "outputId": "9b73cc93-2f7d-4c4d-da64-fbc2fc12ea25"
      },
      "execution_count": 6,
      "outputs": [
        {
          "output_type": "stream",
          "name": "stdout",
          "text": [
            "enter the price450000\n",
            "67500.0\n"
          ]
        }
      ]
    },
    {
      "cell_type": "code",
      "source": [],
      "metadata": {
        "id": "Gffniv-OwWoZ"
      },
      "execution_count": null,
      "outputs": []
    }
  ]
}